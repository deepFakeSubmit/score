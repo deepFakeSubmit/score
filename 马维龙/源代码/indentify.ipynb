{
 "cells": [
  {
   "cell_type": "code",
   "execution_count": 19,
   "id": "6a52bdd3",
   "metadata": {
    "scrolled": true
   },
   "outputs": [
    {
     "name": "stdout",
     "output_type": "stream",
     "text": [
      "end\n"
     ]
    }
   ],
   "source": [
    "import os\n",
    "import pickle\n",
    "import warnings\n",
    "import librosa\n",
    "import soundfile as sf\n",
    "import numpy as np\n",
    "\n",
    "from sklearn.mixture import GaussianMixture\n",
    "from sklearn import  preprocessing\n",
    "from spafe.utils import vis\n",
    "from python_speech_features import delta\n",
    "from sklearn import preprocessing\n",
    "from spafe.features.mfcc import mfcc\n",
    "from get_Mfcc import get_Mfcc\n",
    "warnings.filterwarnings(\"ignore\")\n",
    "\n",
    "spoof_model_path = \"zju_deepfake\\\\spoof.gmm\"\n",
    "bonafide_model_path = \"zju_deepfake\\\\bonafide.gmm\"\n",
    "# 载入训练好的模型\n",
    "spoof_gmm = pickle.load(open(spoof_model_path, 'rb'))\n",
    "bonafide_gmm = pickle.load(open(bonafide_model_path, 'rb'))\n",
    "\n",
    "def identify(vector):\n",
    "    spoof_scores = np.array(spoof_gmm.score(vector))\n",
    "    spoof_score = spoof_scores.sum()\n",
    "    # male hypothesis scoring\n",
    "    bonafide_scores = np.array(bonafide_gmm.score(vector))\n",
    "    bonafide_score = bonafide_scores.sum()\n",
    "    \n",
    "#     print(\"%10s %5s %1s\" % (\"+ SPOOF SCORE\",\":\", str(round(is_spoof, 3))))\n",
    "#     print(\"%10s %7s %1s\" % (\"+ BONAFIDE SCORE\", \":\", str(round(is_bonafide,3))))\n",
    "    \n",
    "    if spoof_score > bonafide_score: \n",
    "        winner = \"spoof\"\n",
    "    else: \n",
    "        winner = \"bonafide\"\n",
    "    return winner\n",
    "\n",
    "nowfile = \"eval2\"\n",
    "filepath = \"zju_deepfake\\\\\" + nowfile + \"\\\\flac\\\\\"\n",
    "ans_file = \"zju_deepfake\\\\\" + nowfile + \"_ans.txt\"\n",
    "ans_out = open(ans_file, \"w\")\n",
    "prediction = \"spoof\"\n",
    "for root, dirs, files in os.walk(filepath):\n",
    "    for f in files:        \n",
    "        vector = get_Mfcc(filepath + f)\n",
    "        prediction = identify(vector)\n",
    "        ans_out.write(f[:12] + \" \" + prediction + \"\\n\")\n",
    "print(\"end\")"
   ]
  },
  {
   "cell_type": "code",
   "execution_count": null,
   "id": "1b57413e",
   "metadata": {},
   "outputs": [],
   "source": []
  }
 ],
 "metadata": {
  "kernelspec": {
   "display_name": "Python 3",
   "language": "python",
   "name": "python3"
  },
  "language_info": {
   "codemirror_mode": {
    "name": "ipython",
    "version": 3
   },
   "file_extension": ".py",
   "mimetype": "text/x-python",
   "name": "python",
   "nbconvert_exporter": "python",
   "pygments_lexer": "ipython3",
   "version": "3.8.8"
  }
 },
 "nbformat": 4,
 "nbformat_minor": 5
}
