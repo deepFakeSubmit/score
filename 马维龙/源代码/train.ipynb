{
 "cells": [
  {
   "cell_type": "code",
   "execution_count": 2,
   "id": "13f12b59",
   "metadata": {
    "scrolled": false
   },
   "outputs": [
    {
     "name": "stdout",
     "output_type": "stream",
     "text": [
      "[[-1.2874852   1.02710592  0.64313452 ...  0.00612374  0.05256352\n",
      "   0.08935578]\n",
      " [-1.33565028  0.79678517  1.12321183 ... -0.04044882  0.02986835\n",
      "   0.04998678]\n",
      " [-1.42793759  0.50300295  1.03285198 ... -0.08005482 -0.02281864\n",
      "  -0.0392574 ]\n",
      " ...\n",
      " [-1.1049847   0.48278622  0.43995537 ... -0.05910363  0.04797514\n",
      "  -0.0368048 ]\n",
      " [-1.17327571  0.03241473 -0.00187376 ...  0.00844111  0.04508216\n",
      "   0.0563228 ]\n",
      " [-1.00461558  0.59906591 -0.06132444 ...  0.07176528 -0.03272351\n",
      "   0.07590733]]\n",
      "GaussianMixture(covariance_type='diag', max_iter=200, n_components=8, n_init=3)\n",
      "zju_deepfake\\bonafide.gmm\n",
      "end\n"
     ]
    }
   ],
   "source": [
    "import os\n",
    "import pickle\n",
    "import warnings\n",
    "import librosa\n",
    "import numpy as np\n",
    "import soundfile as sf\n",
    "\n",
    "from scipy.io.wavfile import read\n",
    "from sklearn.mixture import GaussianMixture\n",
    "from sklearn import  preprocessing\n",
    "from spafe.utils import vis\n",
    "from python_speech_features import delta\n",
    "from sklearn import preprocessing\n",
    "from spafe.features.mfcc import mfcc\n",
    "from get_Mfcc import get_Mfcc\n",
    "\n",
    "#path to training data\n",
    "# 分两次训练，一次训练自然语音，一次训练合成语音\n",
    "# nowname = \"spoof\"\n",
    "nowname = \"bonafide\"\n",
    "source=\"zju_deepfake\\\\train\\\\flac\\\\\"\n",
    "dest=\"zju_deepfake\\\\\"\n",
    "features=np.asarray(())\n",
    "spoof_name = open(\"zju_deepfake\\\\\" + nowname + \".txt\")\n",
    "\n",
    "while(True):\n",
    "    # 读取某次训练中的每个音频\n",
    "    line = spoof_name.readline()\n",
    "    if not line:\n",
    "        break\n",
    "    path = source + line[:12] + \".flac\"\n",
    "#     print(path)\n",
    "    vector = get_Mfcc(path)    \n",
    "    if features.size == 0:\n",
    "        features = vector\n",
    "    else:\n",
    "        features = np.vstack((features, vector))\n",
    "\n",
    "print(features)\n",
    "#GMM模型\n",
    "# print(minv)\n",
    "# print(\"!\")\n",
    "gmm = GaussianMixture(n_components=8,covariance_type='diag',max_iter=200,n_init=3)\n",
    "print(gmm)\n",
    "gmm.fit(features)\n",
    "picklefile= nowname + \".gmm\"\n",
    "print(dest+picklefile)\n",
    "#写模型\n",
    "pickle.dump(gmm,open(dest+picklefile,'wb'))\n",
    "print(\"end\")"
   ]
  },
  {
   "cell_type": "code",
   "execution_count": null,
   "id": "3bc17bd7",
   "metadata": {},
   "outputs": [],
   "source": []
  },
  {
   "cell_type": "code",
   "execution_count": null,
   "id": "a715ac36",
   "metadata": {},
   "outputs": [],
   "source": []
  }
 ],
 "metadata": {
  "kernelspec": {
   "display_name": "Python 3",
   "language": "python",
   "name": "python3"
  },
  "language_info": {
   "codemirror_mode": {
    "name": "ipython",
    "version": 3
   },
   "file_extension": ".py",
   "mimetype": "text/x-python",
   "name": "python",
   "nbconvert_exporter": "python",
   "pygments_lexer": "ipython3",
   "version": "3.8.8"
  }
 },
 "nbformat": 4,
 "nbformat_minor": 5
}
