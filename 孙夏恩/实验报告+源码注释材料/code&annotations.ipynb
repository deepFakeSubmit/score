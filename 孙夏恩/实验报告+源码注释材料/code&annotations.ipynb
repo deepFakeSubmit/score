{
 "cells": [
  {
   "cell_type": "markdown",
   "metadata": {},
   "source": [
    "# 真伪语音鉴别算法评测 - 孙夏恩"
   ]
  },
  {
   "cell_type": "markdown",
   "metadata": {},
   "source": [
    "### 基于特征级联与BinaryFocalLoss卷积神经网络语音真伪鉴别算法实验"
   ]
  },
  {
   "cell_type": "markdown",
   "metadata": {},
   "source": [
    "<img src=\"./pipeline.png\" alt=\"pipeline\" width=\"500\" height=\"313\" align=\"left\" />"
   ]
  },
  {
   "cell_type": "markdown",
   "metadata": {},
   "source": [
    "# Train"
   ]
  },
  {
   "cell_type": "markdown",
   "metadata": {},
   "source": [
    "## 输入加载部分"
   ]
  },
  {
   "cell_type": "code",
   "execution_count": 1,
   "metadata": {},
   "outputs": [],
   "source": [
    "DATASET_TYPE = \"train\"\n",
    "path_prefix = \"./{}/flac/\".format(DATASET_TYPE)\n",
    "path_postfix = \".flac\"\n",
    "trainList = []\n",
    "trainLabelList = []\n",
    "#读入train.txt语音路径和标签\n",
    "with open(\"./{}.txt\".format(DATASET_TYPE),\"r\") as f:\n",
    "    for line in f.readlines():\n",
    "        name, label = line.strip(\"\\n\").split(\" \")\n",
    "        trainList.append(path_prefix+name+path_postfix)\n",
    "        trainLabelList.append(label)\n",
    "\n",
    "#实验过程中，dev部分的bonafide数据补充\n",
    "dip=0\n",
    "with open(\"./dev.txt\",\"r\") as f_dip:   \n",
    "    for line_dip in f_dip.readlines():\n",
    "        name, label = line_dip.strip(\"\\n\").split(\" \")\n",
    "        if label == \"bonafide\":\n",
    "            dip+=1\n",
    "            trainList.append(\"./dev/flac/\"+name+path_postfix)\n",
    "            trainLabelList.append(label)"
   ]
  },
  {
   "cell_type": "markdown",
   "metadata": {},
   "source": [
    "## 语音数据分布\n",
    "\n",
    "<img src=\"./dist.png\" alt=\"Dist\" width=\"500\" height=\"313\" align=\"left\" />"
   ]
  },
  {
   "cell_type": "markdown",
   "metadata": {},
   "source": [
    "## 新建Config类，调整实验配置的参数可以都在统一此处修改"
   ]
  },
  {
   "cell_type": "code",
   "execution_count": 2,
   "metadata": {},
   "outputs": [],
   "source": [
    "class Config(object):\n",
    "    def __init__(self,sampling_rate=16000, duration=600,\n",
    "                 use_mfcc=True, n_folds=1, learning_rate=0.01, \n",
    "                 max_epochs=500, n_mfcc=14,n_gfcc=16, use_smote=False, use_trim=True, piece_frame_size=58):\n",
    "        self.sampling_rate = sampling_rate #采样率\n",
    "        self.use_smote = use_smote #是否使用smote\n",
    "        self.use_trim = use_trim   #是否使用librosa的trim功能\n",
    "        self.duration = duration   #语音片段的长度 单位second\n",
    "        self.use_mfcc = use_mfcc   #是否使用mfcc\n",
    "        self.n_mfcc = n_mfcc       #配置mfcc系数个数\n",
    "        self.n_gfcc = n_gfcc       #配置gfcc系数个数\n",
    "        self.n_folds = n_folds     #使用kfold方法求平均验证各个实验结果\n",
    "        self.learning_rate = learning_rate   #配置学习率\n",
    "        self.max_epochs = max_epochs  #配置最大迭代轮次\n",
    "        self.piece_frame_size = piece_frame_size  #配置切割后的特征片段长度\n",
    "config = Config()"
   ]
  },
  {
   "cell_type": "markdown",
   "metadata": {},
   "source": [
    "## librosa采样获取1D-array"
   ]
  },
  {
   "cell_type": "code",
   "execution_count": 4,
   "metadata": {},
   "outputs": [],
   "source": [
    "import librosa\n",
    "from spafe.utils import vis\n",
    "from spafe.features.mfcc import mfcc, imfcc\n",
    "from spafe.features.gfcc import gfcc\n",
    "import numpy as np\n",
    "def getFeat(sound_path,adjusted_duration):\n",
    "    '''\n",
    "        输入：sound_path：语音的路径\n",
    "              adjusted_duration：需要的秒数\n",
    "        返回值： X,y   //X,y in list style\n",
    "    '''\n",
    "    # 读入列表中的语音\n",
    "    if config.use_trim: #去除静寂部分\n",
    "        sig = librosa.effects.trim(librosa.audio.load(sound_path,sr = config.sampling_rate)[0],top_db=50)[0]\n",
    "    else:\n",
    "        sig = librosa.audio.load(sound_path,sr = config.sampling_rate)[0]\n",
    "    ori_frame_len = sig.shape[0]\n",
    "    expected_frame_len = adjusted_duration*(config.sampling_rate//1000) #根据最小分片长度需要的秒数计算最小长度\n",
    "    #长度不够可以padding\n",
    "    if ori_frame_len < expected_frame_len:\n",
    "        max_offset = expected_frame_len - ori_frame_len\n",
    "        offset = np.random.randint(max_offset)\n",
    "        sig = np.pad(sig, (offset, max_offset - offset), \"constant\")\n",
    "    return sig"
   ]
  },
  {
   "cell_type": "markdown",
   "metadata": {},
   "source": [
    "## 获取训练集原始特征集合 "
   ]
  },
  {
   "cell_type": "code",
   "execution_count": 5,
   "metadata": {},
   "outputs": [],
   "source": [
    "def getRawXy(mList,mLabelList):\n",
    "    '''\n",
    "        输入： mList(@NotNullable), mLabelList(@Nullable)\n",
    "        返回值： X,y   //X,y 为list类型\n",
    "    '''\n",
    "    X = []\n",
    "    for i, sound_file in enumerate(mList):\n",
    "        frames = getFeat(sound_file,config.duration)\n",
    "        # 不等长语音同时添加到列表，生成Raw X\n",
    "        X.append(frames)\n",
    "    # 标签映射\n",
    "    def mapFun(x):\n",
    "        if x==\"bonafide\":\n",
    "            return 1\n",
    "        else:\n",
    "            return 0\n",
    "    if len(mLabelList)==0:\n",
    "        y = []\n",
    "    else:\n",
    "        y = list(map(mapFun,mLabelList))\n",
    "    return X,y\n",
    "\n",
    "X,y = getRawXy(trainList,trainLabelList) #train"
   ]
  },
  {
   "cell_type": "markdown",
   "metadata": {},
   "source": [
    "## 计算MFCC、GFCC特征 "
   ]
  },
  {
   "cell_type": "code",
   "execution_count": 7,
   "metadata": {},
   "outputs": [],
   "source": [
    "def getMfccs(sig):\n",
    "     #  初始化一些常规参数\n",
    "    num_ceps = config.n_mfcc\n",
    "    low_freq = 0\n",
    "    high_freq = 2000\n",
    "    nfft = 512\n",
    "    dct_type = 2\n",
    "    use_energy = True #C0系数将被重写，以对数形式呈现\n",
    "    nfilts=24\n",
    "    lifter = 5\n",
    "    normalize = False\n",
    "    # 计算特征\n",
    "    mfccs = mfcc(sig = sig,\n",
    "                 fs = config.sampling_rate,\n",
    "                 num_ceps=num_ceps,\n",
    "                 nfft=nfft,\n",
    "                 nfilts=24,\n",
    "                 low_freq=low_freq,\n",
    "                 high_freq=high_freq,\n",
    "                 dct_type=dct_type,\n",
    "                 use_energy=use_energy,\n",
    "                 lifter=lifter,\n",
    "                 normalize=normalize)\n",
    "    # 转置一次之后num_ceps将到第二维度记录\n",
    "    mfccs = mfccs.transpose() \n",
    "    #添加一个维度适应卷积网络的输入\n",
    "    mfccs = mfccs[:,:,np.newaxis] \n",
    "    # 返回值的numpy.shape形如 (num_ceps, frameindex, 1)\n",
    "    return mfccs"
   ]
  },
  {
   "cell_type": "code",
   "execution_count": 8,
   "metadata": {},
   "outputs": [],
   "source": [
    "def getGfccs(sig):\n",
    "    gfccs = gfcc(sig = sig,\n",
    "                 fs = config.sampling_rate,\n",
    "                 num_ceps=config.n_gfcc)\n",
    "    #所有操作与Mfcc对齐，便于后续融合\n",
    "    gfccs = gfccs.transpose()\n",
    "    gfccs = gfccs[:,:,np.newaxis]\n",
    "    return gfccs"
   ]
  },
  {
   "cell_type": "markdown",
   "metadata": {},
   "source": [
    "## 生成检测单元"
   ]
  },
  {
   "cell_type": "code",
   "execution_count": 10,
   "metadata": {},
   "outputs": [
    {
     "name": "stdout",
     "output_type": "stream",
     "text": [
      "0.6s对应的58帧片段： (14, 58, 1)\n"
     ]
    }
   ],
   "source": [
    "#检查config配置情况，添加断言\n",
    "print(\"0.6s对应的58帧片段：\",getMfccs(np.empty(config.sampling_rate*config.duration//1000)).shape)\n",
    "assert getMfccs(np.empty(config.sampling_rate*config.duration//1000)).shape[1] == config.piece_frame_size"
   ]
  },
  {
   "cell_type": "code",
   "execution_count": 11,
   "metadata": {},
   "outputs": [],
   "source": [
    "def generatePieces(frames,frames_label):\n",
    "    '''\n",
    "        输入:    frames(3D numpy.array)\n",
    "                 frames_label(int)\n",
    "        返回值： frames_list(4D numpy.array)  present features in a stick period\n",
    "                 frames_labels(1D numpy.array)\n",
    "    '''\n",
    "    frames_list = np.array([])\n",
    "    frames_labels = []\n",
    "    cursor = 0\n",
    "    if frames.shape[1] >= config.piece_frame_size: #config.piece_frame_size的设置参考分帧长和帧移确定，也可通过getMfccs测得\n",
    "        while cursor + config.piece_frame_size <= frames.shape[1]: #遍历，基于config.piece_frame_size切割 \n",
    "            if frames_list.shape[0] == 0:\n",
    "                frames_list = np.array(frames[np.newaxis,:,:config.piece_frame_size,:])\n",
    "            else:\n",
    "                frames_list = np.concatenate((frames_list,frames[np.newaxis,:,cursor:cursor+config.piece_frame_size,:]))\n",
    "            frames_labels.append(frames_label)\n",
    "            cursor += config.piece_frame_size\n",
    "    else:\n",
    "        print(\"ERR: should adjust in getFeat !\")\n",
    "    return frames_list,np.array(frames_labels)"
   ]
  },
  {
   "cell_type": "markdown",
   "metadata": {},
   "source": [
    "## 生成特征并特征融合 "
   ]
  },
  {
   "cell_type": "code",
   "execution_count": 12,
   "metadata": {},
   "outputs": [],
   "source": [
    "X_train = np.array([])\n",
    "y_train = np.array([])\n",
    "for i, sig in enumerate(X):\n",
    "    mfccs = getMfccs(sig)\n",
    "    gfccs = getGfccs(sig)\n",
    "    mixed_fccs = np.concatenate((mfccs,gfccs)) #由于前面步骤的转置，现在融合可以直接在第一维度堆叠\n",
    "    frames_lists,frames_labels = generatePieces(mixed_fccs,y[i])\n",
    "    if X_train.shape[0] == 0:\n",
    "        X_train = frames_lists\n",
    "        y_train = frames_labels\n",
    "    else:\n",
    "        X_train = np.vstack((X_train,frames_lists))  #形成numpy.shape统一的训练样本，堆叠\n",
    "        y_train = np.hstack((y_train,frames_labels)) "
   ]
  },
  {
   "cell_type": "code",
   "execution_count": 13,
   "metadata": {},
   "outputs": [
    {
     "data": {
      "text/plain": [
       "(10901, 30, 58, 1)"
      ]
     },
     "execution_count": 13,
     "metadata": {},
     "output_type": "execute_result"
    }
   ],
   "source": [
    "X_train.shape"
   ]
  },
  {
   "cell_type": "markdown",
   "metadata": {},
   "source": [
    "## SMOTE实验 "
   ]
  },
  {
   "cell_type": "code",
   "execution_count": 14,
   "metadata": {},
   "outputs": [],
   "source": [
    "#作Smote过采样尝试调整比例\n",
    "from imblearn.over_sampling import SMOTE\n",
    "smoteOpt = SMOTE(sampling_strategy={1:4000},random_state=42)\n",
    "if config.use_smote:\n",
    "    X_train,y_train = smoteOpt.fit_resample(X_train,y_train)"
   ]
  },
  {
   "cell_type": "markdown",
   "metadata": {},
   "source": [
    "## 对特征进行数据的标准化处理"
   ]
  },
  {
   "cell_type": "code",
   "execution_count": 15,
   "metadata": {},
   "outputs": [],
   "source": [
    "mean = np.mean(X_train, axis=0)\n",
    "std = np.std(X_train, axis=0)\n",
    "X_train = (X_train - mean)/std"
   ]
  },
  {
   "cell_type": "markdown",
   "metadata": {},
   "source": [
    "## 搭建卷积神经网络 "
   ]
  },
  {
   "cell_type": "code",
   "execution_count": 16,
   "metadata": {},
   "outputs": [],
   "source": [
    "from tensorflow.keras.layers import (Conv2D,  BatchNormalization, Flatten, MaxPool2D, concatenate, Activation,Dropout,Dense)\n",
    "from tensorflow.keras.utils import Sequence\n",
    "from tensorflow.keras import backend as K\n",
    "from tensorflow.keras import losses, models, optimizers,regularizers\n",
    "from keras.callbacks import EarlyStopping,ModelCheckpoint,ReduceLROnPlateau\n",
    "model = models.Sequential()\n",
    "model.add(Conv2D(32,(4,4),activation='relu',strides=(1,1),input_shape=(config.n_gfcc+config.n_mfcc,config.piece_frame_size,1)))\n",
    "model.add(Conv2D(32,(4,4),activation='relu',strides=(1,1)))\n",
    "model.add(MaxPool2D()) #最大池化采用poolsize = 2*2，不带stride\n",
    "model.add(Dropout(0.5))\n",
    "model.add(Conv2D(64,(4,4),activation='relu')) #加深filter\n",
    "model.add(Conv2D(64,(4,4),activation='relu'))\n",
    "model.add(MaxPool2D())\n",
    "model.add(Dropout(0.5))\n",
    "model.add(Flatten()) #展开成一维形式\n",
    "model.add(Dense(300,kernel_initializer='random_uniform',\n",
    "                bias_initializer='zeros',activation='relu',kernel_regularizer=regularizers.l2(0.0001)))\n",
    "model.add(Dense(1))\n",
    "model.add(Activation(\"sigmoid\"))"
   ]
  },
  {
   "cell_type": "code",
   "execution_count": 17,
   "metadata": {},
   "outputs": [
    {
     "name": "stdout",
     "output_type": "stream",
     "text": [
      "Model: \"sequential\"\n",
      "_________________________________________________________________\n",
      "Layer (type)                 Output Shape              Param #   \n",
      "=================================================================\n",
      "conv2d (Conv2D)              (None, 27, 55, 32)        544       \n",
      "_________________________________________________________________\n",
      "conv2d_1 (Conv2D)            (None, 24, 52, 32)        16416     \n",
      "_________________________________________________________________\n",
      "max_pooling2d (MaxPooling2D) (None, 12, 26, 32)        0         \n",
      "_________________________________________________________________\n",
      "dropout (Dropout)            (None, 12, 26, 32)        0         \n",
      "_________________________________________________________________\n",
      "conv2d_2 (Conv2D)            (None, 9, 23, 64)         32832     \n",
      "_________________________________________________________________\n",
      "conv2d_3 (Conv2D)            (None, 6, 20, 64)         65600     \n",
      "_________________________________________________________________\n",
      "max_pooling2d_1 (MaxPooling2 (None, 3, 10, 64)         0         \n",
      "_________________________________________________________________\n",
      "dropout_1 (Dropout)          (None, 3, 10, 64)         0         \n",
      "_________________________________________________________________\n",
      "flatten (Flatten)            (None, 1920)              0         \n",
      "_________________________________________________________________\n",
      "dense (Dense)                (None, 300)               576300    \n",
      "_________________________________________________________________\n",
      "dense_1 (Dense)              (None, 1)                 301       \n",
      "_________________________________________________________________\n",
      "activation (Activation)      (None, 1)                 0         \n",
      "=================================================================\n",
      "Total params: 691,993\n",
      "Trainable params: 691,993\n",
      "Non-trainable params: 0\n",
      "_________________________________________________________________\n"
     ]
    }
   ],
   "source": [
    "model.summary()"
   ]
  },
  {
   "cell_type": "markdown",
   "metadata": {},
   "source": [
    "## focal loss应用于二分类"
   ]
  },
  {
   "cell_type": "code",
   "execution_count": 18,
   "metadata": {},
   "outputs": [],
   "source": [
    "import tensorflow as tf\n",
    "import tensorflow.keras.backend as K\n",
    "def binary_focal_loss(gamma=2, alpha=0.25):\n",
    "    \"\"\"\n",
    "    基本公式：\n",
    "    focal_loss(p_t) = -alpha_t * (1 - p_t)**gamma * log(p_t)\n",
    "        where p = sigmoid(x), p_t = p or 1 - p depending on if the label is 1 or 0, respectively.\n",
    "    文献基础:\n",
    "        https://arxiv.org/pdf/1708.02002.pdf\n",
    "    \"\"\"\n",
    "    alpha = tf.constant(alpha, dtype=tf.float32)\n",
    "    gamma = tf.constant(gamma, dtype=tf.float32)\n",
    "\n",
    "    def binary_focal_loss_fixed(y_true, y_pred):\n",
    "        y_true = tf.cast(y_true, tf.float32)\n",
    "        alpha_t = y_true*alpha + (K.ones_like(y_true)-y_true)*(1-alpha)\n",
    "    \n",
    "        p_t = y_true*y_pred + (K.ones_like(y_true)-y_true)*(K.ones_like(y_true)-y_pred) + K.epsilon()\n",
    "        focal_loss = - alpha_t * K.pow((K.ones_like(y_true)-p_t),gamma) * K.log(p_t)\n",
    "        return K.mean(focal_loss)\n",
    "    return binary_focal_loss_fixed"
   ]
  },
  {
   "cell_type": "markdown",
   "metadata": {},
   "source": [
    "## 编译模型，添加checkpoint和earlystopping以及回调监控学习率衰退 "
   ]
  },
  {
   "cell_type": "code",
   "execution_count": 20,
   "metadata": {},
   "outputs": [],
   "source": [
    "model.compile(optimizer=\"sgd\",loss=[binary_focal_loss()],metrics=[\"acc\"])\n",
    "es = EarlyStopping(monitor=\"val_loss\", mode=\"min\", patience=15) #早停\n",
    "checkpoint = ModelCheckpoint('evekkkk_ffffc_{epoch:02d}-{val_loss:.4f}.h5', monitor='val_loss', verbose=1, save_best_only=False)\n",
    "lr_adjust = ReduceLROnPlateau(monitor='loss', factor=0.7, patience=5, min_lr=0.001) #回调函数 观察训练loss是否震荡不下降\n",
    "callbacks = [es,checkpoint,lr_adjust]"
   ]
  },
  {
   "cell_type": "markdown",
   "metadata": {},
   "source": [
    "## 编写Kfold、ShuffleSplit划分数据集进行实验 "
   ]
  },
  {
   "cell_type": "code",
   "execution_count": null,
   "metadata": {
    "scrolled": true
   },
   "outputs": [],
   "source": [
    "from sklearn.model_selection import StratifiedShuffleSplit\n",
    "if config.n_folds==1:\n",
    "    split = StratifiedShuffleSplit(n_splits=1, test_size=0.15, random_state=42)\n",
    "    for train_index, test_index in split.split(X_train,y_train):\n",
    "        X_train_85,y_train_85 = X_train[train_index],y_train[train_index]\n",
    "        X_val,y_val= X_train[test_index],y_train[test_index]\n",
    "        history991 = model.fit(X_train_85, y_train_85, validation_data=(X_val, y_val), callbacks=callbacks, \n",
    "                        batch_size=1, epochs=config.max_epochs,verbose=2)\n",
    "else:\n",
    "    split = StratifiedShuffleSplit(n_splits=config.n_folds)\n",
    "    cnt = 0\n",
    "    for train_idx,val_idx in split.split(X_train,y_train):\n",
    "        print(\"Fold :\",cnt)\n",
    "        X_train_part,y_train_part = X_train[train_idx],y_train[train_idx]\n",
    "        X_val_part,y_val_part = X_train[val_idx],y_train[val_idx]\n",
    "        history991 = model.fit(X_train_part, y_train_part, validation_data=(X_val_part, y_val_part), \n",
    "                               callbacks=callbacks, batch_size=1, epochs=config.max_epochs,verbose=2)\n",
    "        cnt = cnt+1"
   ]
  },
  {
   "cell_type": "markdown",
   "metadata": {},
   "source": [
    "# DEV / EVAL阶段"
   ]
  },
  {
   "cell_type": "markdown",
   "metadata": {},
   "source": [
    "## 导入模型"
   ]
  },
  {
   "cell_type": "code",
   "execution_count": 21,
   "metadata": {},
   "outputs": [],
   "source": [
    " def binary_focal_loss_fixed(y_true, y_pred):\n",
    "        y_true = tf.cast(y_true, tf.float32)\n",
    "        alpha_t = y_true*alpha + (K.ones_like(y_true)-y_true)*(1-alpha)\n",
    "    \n",
    "        p_t = y_true*y_pred + (K.ones_like(y_true)-y_true)*(K.ones_like(y_true)-y_pred) + K.epsilon()\n",
    "        focal_loss = - alpha_t * K.pow((K.ones_like(y_true)-p_t),gamma) * K.log(p_t)\n",
    "        return K.mean(focal_loss)\n",
    "from keras.models import load_model\n",
    "# model_eval = load_model(\"evekkkk_final_53-0.0208.h5\",custom_objects={'binary_focal_loss_fixed': binary_focal_loss_fixed})\n",
    "#自定义的模块需要手动添加依赖，通过custom_object导入框架\n",
    "model_eval = load_model(\"eve_7141000_38-0.0205.h5\",custom_objects={'binary_focal_loss_fixed': binary_focal_loss_fixed})"
   ]
  },
  {
   "cell_type": "code",
   "execution_count": 22,
   "metadata": {},
   "outputs": [],
   "source": [
    "#对语音也需要进行同样的特征提取操作\n",
    "DATASET_TYPE = \"dev\"\n",
    "path_prefix = \"./{}/flac/\".format(DATASET_TYPE)\n",
    "path_postfix = \".flac\"\n",
    "devList = []\n",
    "devLabelList = []\n",
    "with open(\"./{}.txt\".format(DATASET_TYPE),\"r\") as f:\n",
    "    for line in f.readlines():\n",
    "        name, label = line.strip(\"\\n\").split(\" \")\n",
    "        devList.append(path_prefix+name+path_postfix)\n",
    "        devLabelList.append(label)\n",
    "X_dev,y_dev = getRawXy(devList,devLabelList) #train"
   ]
  },
  {
   "cell_type": "markdown",
   "metadata": {},
   "source": [
    "## 原始语音数据分段检测判定 "
   ]
  },
  {
   "cell_type": "code",
   "execution_count": 23,
   "metadata": {
    "scrolled": true
   },
   "outputs": [],
   "source": [
    "#以每条语音为单位，开始检测，先分后合思想\n",
    "y_pred = []\n",
    "for i, sig in enumerate(X_dev):\n",
    "    mfccs = getMfccs(sig)\n",
    "    gfccs = getGfccs(sig)\n",
    "    mixed_fccs = np.concatenate((mfccs,gfccs))\n",
    "    #以每条语音为单位，分段进入网络检测，合并各部分结果后，再判断整句的标签\n",
    "    frames_lists,frames_labels = generatePieces(mixed_fccs,y_dev[i])\n",
    "    vec = model_eval.predict((frames_lists-mean)/std).flatten()\n",
    "    # 判别算法\n",
    "    if (vec > 0.5).sum() > vec.shape[0]//2:\n",
    "        y_pred.append(1)\n",
    "    else:  \n",
    "        if vec.sum()>0.5*vec.shape[0]:\n",
    "            y_pred.append(1)\n",
    "        else:\n",
    "            y_pred.append(0)"
   ]
  },
  {
   "cell_type": "code",
   "execution_count": 24,
   "metadata": {},
   "outputs": [
    {
     "name": "stdout",
     "output_type": "stream",
     "text": [
      "acc: 0.9696\n",
      "recall: 0.8033333333333333\n",
      "precision: 0.9341085271317829\n"
     ]
    }
   ],
   "source": [
    "from sklearn.metrics import accuracy_score,recall_score,precision_score\n",
    "print(\"acc:\",accuracy_score(y_pred,y_dev))\n",
    "print(\"recall:\",recall_score(y_pred,y_dev))\n",
    "print(\"precision:\",precision_score(y_pred,y_dev))"
   ]
  },
  {
   "cell_type": "markdown",
   "metadata": {},
   "source": [
    "## 生成txt提交文件"
   ]
  },
  {
   "cell_type": "code",
   "execution_count": null,
   "metadata": {},
   "outputs": [],
   "source": [
    "import os\n",
    "os.chdir(\"E:/zju_deepfake/\")\n",
    "DATASET_TYPE = \"eval1\"\n",
    "path_prefix = \"./{}/flac/\".format(DATASET_TYPE)\n",
    "path_postfix = \".flac\"\n",
    "evalList = []\n",
    "for name in os.listdir(path_prefix):\n",
    "    evalList.append(path_prefix+name)"
   ]
  },
  {
   "cell_type": "code",
   "execution_count": null,
   "metadata": {},
   "outputs": [],
   "source": [
    "X_eval,_ = getRawXy(evalList,[]) #train\n",
    "y_pred = []\n",
    "for i, sig in enumerate(X_eval):\n",
    "    mfccs = getMfccs(sig)\n",
    "    gfccs = getGfccs(sig)\n",
    "    mixed_fccs = np.concatenate((mfccs,gfccs))\n",
    "    # 整句为单位 逐句迭代，分段分析\n",
    "    frames_lists,_ = generatePieces(mixed_fccs,0)\n",
    "    vec = model_eval.predict((frames_lists-mean)/std).flatten()\n",
    "    if (vec > 0.5).sum() > vec.shape[0]//2:\n",
    "        y_pred.append(1)\n",
    "    else:  \n",
    "        if vec.sum()>0.5*vec.shape[0]:\n",
    "            y_pred.append(1)\n",
    "        else:\n",
    "            y_pred.append(0)"
   ]
  },
  {
   "cell_type": "code",
   "execution_count": null,
   "metadata": {},
   "outputs": [],
   "source": [
    "# 观察bonafide数量\n",
    "cnt = 0\n",
    "for i in y_pred:\n",
    "    if i == 1:\n",
    "        cnt = cnt + 1\n",
    "cnt"
   ]
  },
  {
   "cell_type": "code",
   "execution_count": null,
   "metadata": {},
   "outputs": [],
   "source": [
    "with open(\"eval1_v3.txt\",\"w\") as f:\n",
    "    i=0\n",
    "    for name in os.listdir(\"./eval1/flac\"):\n",
    "        nameSplit = name.split(\".\")\n",
    "        if y_pred[i]==0:\n",
    "            f.write(nameSplit[0]+\" spoof\\n\")\n",
    "        else:\n",
    "            f.write(nameSplit[0]+\" bonafide\\n\")\n",
    "        i=i+1"
   ]
  },
  {
   "cell_type": "markdown",
   "metadata": {},
   "source": [
    "## 绘图小工具函数"
   ]
  },
  {
   "cell_type": "code",
   "execution_count": 99,
   "metadata": {},
   "outputs": [
    {
     "data": {
      "image/png": "[encoded data removed]",
      "text/plain": [
       "<Figure size 432x288 with 1 Axes>"
      ]
     },
     "metadata": {},
     "output_type": "display_data"
    }
   ],
   "source": [
    "import re\n",
    "pattern=r\"loss: \\d+.\\d+\"\n",
    "pattern2=r\"val_loss: \\d+.\\d+\"\n",
    "pat = re.compile(pattern)\n",
    "pat2 =  re.compile(pattern2)\n",
    "import pandas as pd\n",
    "import seaborn as sns\n",
    "import matplotlib.pyplot as plt\n",
    "lossList = []\n",
    "lossValList = []\n",
    "with open(\"notes.txt\",\"r\") as f:\n",
    "    for i,line in enumerate(f.readlines()):\n",
    "        if i%4==1:\n",
    "            res = pat.search(line)\n",
    "            res2 = pat2.search(line)\n",
    "            fdata = float(res.group(0).split(\":\")[1])\n",
    "            fdata2 = float(res2.group(0).split(\":\")[1])\n",
    "#             print(line)\n",
    "            lossList.append(fdata)\n",
    "            lossValList.append(fdata2)\n",
    "data = pd.DataFrame({\"train_loss\":lossList,\"val_loss\":lossValList})\n",
    "plt.figure()\n",
    "sns.set(style=\"whitegrid\")\n",
    "plt.title(\"Loss/valLoss change in Train\")\n",
    "plt.ylabel(\"Loss\")\n",
    "plt.xlabel(\"Epoch\")\n",
    "sns.lineplot(data=data)\n",
    "plt.savefig(\"loss.png\",dpi=800)"
   ]
  },
  {
   "cell_type": "code",
   "execution_count": 97,
   "metadata": {},
   "outputs": [],
   "source": [
    "import seaborn as sns\n",
    "drawX = X\n",
    "drawXduration = list(map(lambda x:x.shape[0]/config.sampling_rate,drawX))\n",
    "sortedX = sorted(drawXduration)"
   ]
  },
  {
   "cell_type": "code",
   "execution_count": 98,
   "metadata": {},
   "outputs": [
    {
     "data": {
      "image/png": "[encoded data removed]",
      "text/plain": [
       "<Figure size 432x288 with 1 Axes>"
      ]
     },
     "metadata": {},
     "output_type": "display_data"
    }
   ],
   "source": [
    "import matplotlib.pyplot as plt\n",
    "plt.figure()\n",
    "sns.set(style=\"whitegrid\")\n",
    "sns.distplot(sortedX,kde_kws={\"color\": \"black\", \"lw\": 2, \"label\": \"KDE line\"},color=\"black\")\n",
    "plt.title(\"Audio Length Dist in TrainList\")\n",
    "plt.ylabel(\"Density\")\n",
    "plt.xlabel(\"Duration (second)\")\n",
    "plt.savefig(\"dist.png\",dpi=800)"
   ]
  }
 ],
 "metadata": {
  "kernelspec": {
   "display_name": "Python 3.7.4 64-bit ('base': conda)",
   "language": "python",
   "name": "python37464bitbaseconda65486e1e17104cd1b8e3938258515ae3"
  },
  "language_info": {
   "codemirror_mode": {
    "name": "ipython",
    "version": 3
   },
   "file_extension": ".py",
   "mimetype": "text/x-python",
   "name": "python",
   "nbconvert_exporter": "python",
   "pygments_lexer": "ipython3",
   "version": "3.7.4"
  }
 },
 "nbformat": 4,
 "nbformat_minor": 2
}
