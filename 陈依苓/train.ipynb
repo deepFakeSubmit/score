{
 "cells": [
  {
   "cell_type": "code",
   "execution_count": 1,
   "metadata": {},
   "outputs": [],
   "source": [
    "import os\n",
    "from sklearn.model_selection import train_test_split\n",
    "import numpy as np\n",
    "import scipy\n",
    "import soundfile as sf\n",
    "from spafe.utils import vis\n",
    "from spafe.features.mfcc import mfcc, imfcc\n",
    "from sklearn.preprocessing import LabelEncoder\n",
    "from sklearn import preprocessing\n",
    "import pickle"
   ]
  },
  {
   "cell_type": "code",
   "execution_count": 102,
   "metadata": {},
   "outputs": [],
   "source": [
    "# 规定一些参数\n",
    "NOR_LEN = 32000\n",
    "frame_size = 0.025   # 帧长  25ms\n",
    "frame_stride = 0.01  # 帧移  10ms\n",
    "NFFT = 512  # N点 FFT 短时傅里叶变换\n",
    "nfilt = 40    # 梅尔滤波器的个数\n",
    "num_ceps = 15  # 倒谱系数\n",
    "n_components = 8\n",
    "# coes = [13,12,11,10,9,8]"
   ]
  },
  {
   "cell_type": "code",
   "execution_count": 103,
   "metadata": {},
   "outputs": [],
   "source": [
    "# 数据路径 \n",
    "train_data_path1 = './audio/train/flac/'\n",
    "train_label_path1 = './audio/train.txt'\n",
    "# 文件名与标签的映射\n",
    "signs1 = np.loadtxt(train_label_path1,delimiter=' ',dtype=str)\n"
   ]
  },
  {
   "cell_type": "code",
   "execution_count": 104,
   "metadata": {},
   "outputs": [
    {
     "name": "stdout",
     "output_type": "stream",
     "text": [
      "spoof训练集大小 1779\n",
      "bonafide训练集大小 221\n"
     ]
    }
   ],
   "source": [
    "# 形成2个文件路径集合，用于生成2个GMM，一个是spoof伪，一个是bonafide真\n",
    "files_spoof = []\n",
    "files_bonafide = []\n",
    "for s in signs1:\n",
    "    if s[1]=='spoof':\n",
    "        files_spoof.append(train_data_path1+s[0]+'.flac')\n",
    "    else:\n",
    "        files_bonafide.append(train_data_path1+s[0]+'.flac')\n",
    "\n",
    "print('spoof训练集大小',len(files_spoof))\n",
    "print('bonafide训练集大小',len(files_bonafide))"
   ]
  },
  {
   "cell_type": "code",
   "execution_count": 107,
   "metadata": {},
   "outputs": [],
   "source": [
    "def normalizeVoiceLen(y,normalizedLen): # y：data  normalizedLen:32000\n",
    "    '''\n",
    "    音频文件归一化长度\n",
    "    '''\n",
    "    nframes=len(y)\n",
    "    y = np.reshape(y,[nframes,1]).T  \n",
    "    #归一化音频长度为2s,32000数据点\n",
    "    if(nframes<normalizedLen):  # 用0补\n",
    "        res=normalizedLen-nframes\n",
    "        res_data=np.zeros([1,res],dtype=np.float32)\n",
    "        y=np.c_[y,res_data]\n",
    "    else:\n",
    "        y=y[:,0:normalizedLen]\n",
    "    return y[0]  # 向量\n",
    "\n",
    "\n",
    "def get_mfcc_features(files):\n",
    "    '''\n",
    "    mfcc提取\n",
    "    \n",
    "    files flac文件路径\n",
    "    '''\n",
    "    mfcc_features = np.asarray(())\n",
    "    i = 0\n",
    "    for f in files:\n",
    "        data,sample_rate = sf.read(f)\n",
    "        data = normalizeVoiceLen(data,NOR_LEN)  \n",
    "        features = mfcc(data,fs=sample_rate,nfft=NFFT,num_ceps=num_ceps)\n",
    "        features = preprocessing.scale(features)\n",
    "        if mfcc_features.size == 0:\n",
    "            mfcc_features = features\n",
    "        else:\n",
    "            mfcc_features=np.append(mfcc_features,features,axis=0)\n",
    "    return mfcc_features\n",
    "\n",
    "def get_Mfcc(sr,audio):\n",
    "    audio=normalizeVoiceLen(audio,NOR_LEN)\n",
    "    features=mfcc(audio,fs=sr,nfft=NFFT,num_ceps=num_ceps)\n",
    "    features=preprocessing.scale(features)\n",
    "    return features"
   ]
  },
  {
   "cell_type": "code",
   "execution_count": 108,
   "metadata": {},
   "outputs": [],
   "source": [
    "x_train_spoof,x_train_bonafide = get_mfcc_features(files_spoof),get_mfcc_features(files_bonafide)"
   ]
  },
  {
   "cell_type": "code",
   "execution_count": 109,
   "metadata": {},
   "outputs": [
    {
     "name": "stdout",
     "output_type": "stream",
     "text": [
      "spoof: (352242, 15)   bonafide: (43758, 15)\n"
     ]
    }
   ],
   "source": [
    "print('spoof:',x_train_spoof.shape,'  bonafide:',x_train_bonafide.shape)"
   ]
  },
  {
   "cell_type": "code",
   "execution_count": 68,
   "metadata": {
    "scrolled": true
   },
   "outputs": [],
   "source": [
    "# 模型训练\n",
    "from sklearn.mixture import GaussianMixture as GMM\n",
    "def train_gmm(n_components,covariance_type='diag'):\n",
    "    gmm1 = GMM(n_components=n_components,covariance_type='diag',n_init=3)\n",
    "    gmm_model_spoof = gmm1.fit(x_train_spoof)\n",
    "\n",
    "    gmm2 = GMM(n_components=n_components,covariance_type='diag',n_init=3)\n",
    "    gmm_model_bonafide = gmm2.fit(x_train_bonafide)\n",
    "    return gmm_model_spoof,gmm_model_bonafide\n",
    "\n",
    "gmm_model_spoof,gmm_model_bonafide = train_gmm(n_components)"
   ]
  },
  {
   "cell_type": "code",
   "execution_count": null,
   "metadata": {},
   "outputs": [],
   "source": [
    "# 写模型\n",
    "picklefile_spoof = 'spoof.gmm'\n",
    "picklefile_bonafide = 'bonafide.gmm'\n",
    "\n",
    "pickle.dump(gmm_model_spoof,open('./'+picklefile_spoof,'wb'))\n",
    "pickle.dump(gmm_model_bonafide,open('./'+picklefile_bonafide,'wb'))"
   ]
  },
  {
   "cell_type": "code",
   "execution_count": 111,
   "metadata": {},
   "outputs": [
    {
     "name": "stdout",
     "output_type": "stream",
     "text": [
      "验证集长度： 2500\n"
     ]
    }
   ],
   "source": [
    "# 在验证集预测\n",
    "# 数据处理\n",
    "test_data_path = './audio/dev/flac/'  # path to testing data\n",
    "test_label_path = './audio/dev.txt'\n",
    "signs_test = np.loadtxt(test_label_path,delimiter=' ',dtype=str)\n",
    "labels_test = signs_test[:,1]\n",
    "files_test = [os.path.join(test_data_path,s[0])+'.flac' for s in signs_test]\n",
    "\n",
    "print('验证集长度：',len(files_test))"
   ]
  },
  {
   "cell_type": "code",
   "execution_count": null,
   "metadata": {},
   "outputs": [],
   "source": []
  },
  {
   "cell_type": "code",
   "execution_count": 112,
   "metadata": {},
   "outputs": [
    {
     "name": "stdout",
     "output_type": "stream",
     "text": [
      "fname: ./bonafide.gmm\n",
      "fname: ./spoof.gmm\n",
      "['bonafide', 'spoof']\n"
     ]
    },
    {
     "name": "stderr",
     "output_type": "stream",
     "text": [
      "D:\\ProgramData\\Anaconda3\\lib\\site-packages\\sklearn\\base.py:310: UserWarning: Trying to unpickle estimator GaussianMixture from version 0.23.1 when using version 0.24.2. This might lead to breaking code or invalid results. Use at your own risk.\n",
      "  warnings.warn(\n"
     ]
    }
   ],
   "source": [
    "# # 打开模型\n",
    "modelpath = './'\n",
    "gmm_files=[os.path.join(modelpath,fname) for fname in os.listdir(modelpath) if fname.endswith('.gmm')]\n",
    "models=[pickle.load(open(fname,'rb')) for fname in gmm_files]\n",
    "results = [fname[len(modelpath):-4] for fname in gmm_files]\n",
    "for fname in gmm_files:\n",
    "    print(\"fname:\",fname)\n",
    "print(results)\n"
   ]
  },
  {
   "cell_type": "code",
   "execution_count": 113,
   "metadata": {},
   "outputs": [
    {
     "name": "stdout",
     "output_type": "stream",
     "text": [
      "precision_spoof: 0.9598732840549102\n",
      "precision_bonafide: 0.39464882943143814\n",
      "j: 2116 len: 2500\n",
      "accuracy： 0.8464\n",
      "recall_spoof： 1880 / 2242 = 0.8385370205173952\n",
      "recall_bonafide： 236 / 258 = 0.9147286821705426\n"
     ]
    }
   ],
   "source": [
    "### tp_s,fp_s,tn_s,fn_s=0,0,0,0\n",
    "tp_b,fp_b,tn_b,fn_b=0,0,0,0\n",
    "j=0\n",
    "spoof_test_true=0\n",
    "bonafide_test_true=0\n",
    "spoof_test_total=0\n",
    "bonafide_test_total=0\n",
    "\n",
    "for i,file in enumerate(files_test):\n",
    "    audio,sr=sf.read(file) \n",
    "    feature=get_Mfcc(sr,audio)\n",
    "    scores = None\n",
    "    # 2个模型，所以长度是2\n",
    "    log_likelihood=np.zeros(len(models))\n",
    "    # 循环加载这两个模型\n",
    "    for k in range(len(models)):\n",
    "        gmm = models[k]\n",
    "        ##求概率\n",
    "        scores=np.array(gmm.score(feature).reshape(1,-1))\n",
    "        log_likelihood[k]=scores.sum()\n",
    "    \n",
    "    winner=np.argmax(log_likelihood)  # 对应下标\n",
    "\n",
    "    \n",
    "    if labels_test[i] == 'spoof':\n",
    "        spoof_test_total+=1\n",
    "    else:\n",
    "        bonafide_test_total+=1\n",
    "        \n",
    "    if results[winner] == labels_test[i]:  # 预测正确\n",
    "        j = j + 1\n",
    "        if results[winner] == 'spoof':\n",
    "            tp_s += 1\n",
    "            spoof_test_true=spoof_test_true+1\n",
    "        else:\n",
    "            tp_b += 1\n",
    "            bonafide_test_true=bonafide_test_true+1\n",
    "    else:  # 预测错误\n",
    "        if labels_test[i] == 'spoof': \n",
    "            fn_s += 1\n",
    "            fp_b += 1\n",
    "        else:\n",
    "            fn_b += 1\n",
    "            fp_s += 1\n",
    "            \n",
    "        \n",
    "\n",
    "# precision=tp/tp+fp        \n",
    "print('precision_spoof:',tp_s/(tp_s+fp_s))\n",
    "print('precision_bonafide:',tp_b/(tp_b+fp_b))\n",
    "\n",
    "print(\"j:\",j,\"len:\",len(files_test))\n",
    "print(\"accuracy：\",j/len(files_test))\n",
    "# recall tp/p\n",
    "\n",
    "print(\"recall_spoof：\",spoof_test_true,'/',spoof_test_total,'=',spoof_test_true/spoof_test_total)\n",
    "print(\"recall_bonafide：\",bonafide_test_true,'/',bonafide_test_total,'=',bonafide_test_true/bonafide_test_total)"
   ]
  },
  {
   "cell_type": "code",
   "execution_count": 94,
   "metadata": {},
   "outputs": [],
   "source": [
    "# def record_predict(gmm_model_spoof,gmm_model_bonafide,files_test):\n",
    "#     tp_s,fp_s,tn_s,fn_s=0,0,0,0\n",
    "#     tp_b,fp_b,tn_b,fn_b=0,0,0,0\n",
    "#     j=0\n",
    "\n",
    "#     spoof_test_true=0\n",
    "#     bonafide_test_true=0\n",
    "#     spoof_test_total=0\n",
    "#     bonafide_test_total=0\n",
    "#     results = ['spoof','bonafide'] # 0 假 1 真\n",
    "    \n",
    "#     for i,file in enumerate(files_test):\n",
    "#         audio,sr = sf.read(file)\n",
    "#         feature = get_Mfcc(sr,audio)\n",
    "#         scores = None\n",
    "#         log_likelihood = np.zeros(2)\n",
    "#         scores = np.array(gmm_model_bonafide.score(feature).reshape(1,-1))\n",
    "#         log_likelihood[1] = scores.sum()\n",
    "#         scores = np.array(gmm_model_spoof.score(feature).reshape(1,-1))\n",
    "#         log_likelihood[0] = scores.sum()\n",
    "\n",
    "#         winner=np.argmax(log_likelihood)  # 对应下标\n",
    "\n",
    "#         if labels_test[i] == 'spoof':\n",
    "#             spoof_test_total+=1\n",
    "#         else:\n",
    "#             bonafide_test_total+=1\n",
    "\n",
    "#         if results[winner] == labels_test[i]:  # 预测正确\n",
    "#             j = j + 1\n",
    "#             if results[winner] == 'spoof':\n",
    "#                 tp_s += 1\n",
    "#                 spoof_test_true+=1\n",
    "#             else:\n",
    "#                 tp_b += 1\n",
    "#                 bonafide_test_true+=1\n",
    "#         else:  # 预测错误\n",
    "#             if labels_test[i] == 'spoof': \n",
    "#                 fn_s += 1\n",
    "#                 fp_b += 1\n",
    "#             else:\n",
    "#                 fn_b += 1\n",
    "#                 fp_s += 1\n",
    "     \n",
    "#     # precision=tp/tp+fp        \n",
    "#     print('precision_spoof:',tp_s/(tp_s+fp_s))\n",
    "#  #   print('precision_bonafide:',tp_b/(tp_b+fp_b))\n",
    "\n",
    "#     print(\"j:\",j,\"len:\",len(files_test))\n",
    "#     print(\"accuracy：\",j/len(files_test))\n",
    "#     # recall tp/p\n",
    "\n",
    "#     print(\"recall_spoof：\",spoof_test_true,'/',spoof_test_total,'=',spoof_test_true/spoof_test_total)\n",
    "#     print(\"recall_bonafide：\",bonafide_test_true,'/',bonafide_test_total,'=',bonafide_test_true/bonafide_test_total)"
   ]
  },
  {
   "cell_type": "code",
   "execution_count": 100,
   "metadata": {},
   "outputs": [],
   "source": [
    "# for c in coes:\n",
    "#     gmm_model_spoof,gmm_model_bonafide = train_gmm(c)\n",
    "#     print('n_components=',c)\n",
    "#     record_predict(gmm_model_spoof,gmm_model_bonafide,files_test)"
   ]
  },
  {
   "cell_type": "code",
   "execution_count": null,
   "metadata": {},
   "outputs": [],
   "source": []
  }
 ],
 "metadata": {
  "kernelspec": {
   "display_name": "Python 3",
   "language": "python",
   "name": "python3"
  },
  "language_info": {
   "codemirror_mode": {
    "name": "ipython",
    "version": 3
   },
   "file_extension": ".py",
   "mimetype": "text/x-python",
   "name": "python",
   "nbconvert_exporter": "python",
   "pygments_lexer": "ipython3",
   "version": "3.8.10"
  }
 },
 "nbformat": 4,
 "nbformat_minor": 4
}
